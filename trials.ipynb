{
 "cells": [
  {
   "cell_type": "code",
   "execution_count": null,
   "metadata": {},
   "outputs": [],
   "source": []
  },
  {
   "cell_type": "code",
   "execution_count": null,
   "metadata": {},
   "outputs": [],
   "source": []
  },
  {
   "cell_type": "code",
   "execution_count": 4,
   "metadata": {},
   "outputs": [],
   "source": []
  },
  {
   "cell_type": "code",
   "execution_count": 5,
   "metadata": {},
   "outputs": [],
   "source": []
  },
  {
   "cell_type": "code",
   "execution_count": 6,
   "metadata": {},
   "outputs": [],
   "source": [
    "#Extract data from the PDF\n",
    "def load_pdf(data):\n",
    "    loader = DirectoryLoader(data,\n",
    "                    glob=\"*.pdf\",\n",
    "                    loader_cls=PyPDFLoader)\n",
    "    \n",
    "    documents = loader.load()\n",
    "\n",
    "    return documents"
   ]
  },
  {
   "cell_type": "code",
   "execution_count": 7,
   "metadata": {},
   "outputs": [],
   "source": [
    "extracted_data = load_pdf(\"data/\")"
   ]
  },
  {
   "cell_type": "code",
   "execution_count": 8,
   "metadata": {},
   "outputs": [],
   "source": [
    "#extracted_data"
   ]
  },
  {
   "cell_type": "code",
   "execution_count": 9,
   "metadata": {},
   "outputs": [],
   "source": [
    "#Create text chunks\n",
    "def text_split(extracted_data):\n",
    "    text_splitter = RecursiveCharacterTextSplitter(chunk_size = 500, chunk_overlap = 20)\n",
    "    text_chunks = text_splitter.split_documents(extracted_data)\n",
    "\n",
    "    return text_chunks"
   ]
  },
  {
   "cell_type": "code",
   "execution_count": null,
   "metadata": {},
   "outputs": [],
   "source": [
    "text_chunks = text_split(extracted_data)\n",
    "print(\"length of my chunk:\", len(text_chunks))"
   ]
  },
  {
   "cell_type": "code",
   "execution_count": 11,
   "metadata": {},
   "outputs": [],
   "source": [
    "# text_chunks"
   ]
  },
  {
   "cell_type": "code",
   "execution_count": null,
   "metadata": {},
   "outputs": [],
   "source": [
    "# !pip uninstall -y sentence-transformers\n",
    "# !pip install sentence-transformers\n",
    "\n",
    "import sentence_transformers\n",
    "print(sentence_transformers.__version__)"
   ]
  },
  {
   "cell_type": "code",
   "execution_count": 16,
   "metadata": {},
   "outputs": [],
   "source": [
    "#download embedding model\n",
    "def download_hugging_face_embeddings():\n",
    "    embeddings = HuggingFaceEmbeddings(model_name=\"sentence-transformers/all-MiniLM-L6-v2\")\n",
    "    return embeddings"
   ]
  },
  {
   "cell_type": "code",
   "execution_count": 17,
   "metadata": {},
   "outputs": [],
   "source": [
    "embeddings = download_hugging_face_embeddings()"
   ]
  },
  {
   "cell_type": "code",
   "execution_count": null,
   "metadata": {},
   "outputs": [],
   "source": [
    "embeddings"
   ]
  },
  {
   "cell_type": "code",
   "execution_count": null,
   "metadata": {},
   "outputs": [],
   "source": [
    "query_result = embeddings.embed_query(\"Hello world\")\n",
    "print(\"Length\", len(query_result))"
   ]
  },
  {
   "cell_type": "code",
   "execution_count": 20,
   "metadata": {},
   "outputs": [],
   "source": [
    "# query_result"
   ]
  },
  {
   "cell_type": "code",
   "execution_count": null,
   "metadata": {},
   "outputs": [],
   "source": [
    "import pinecone\n",
    "\n",
    "# Initialize Pinecone\n",
    "pinecone.init(api_key=PINECONE_API_KEY)\n",
    "\n",
    "# List existing indexes\n",
    "print(\"Existing indexes:\", pinecone.list_indexes())"
   ]
  },
  {
   "cell_type": "code",
   "execution_count": 22,
   "metadata": {},
   "outputs": [],
   "source": [
    "# # Define the index name and dimension\n",
    "# index_name = \"medicalchatbot-3\"\n",
    "# if index_name not in pinecone.list_indexes():\n",
    "#     pinecone.create_index(name=index_name, dimension=384)\n",
    "# from tqdm.autonotebook import tqdm\n",
    "\n",
    "# from pinecone.grpc import PineconeGRPC as Pinecone\n",
    "# from pinecone import ServerlessSpec\n",
    "\n",
    "# pc = Pinecone(api_key=\"YOUR_API_KEY\")\n",
    "\n",
    "# pc.create_index(\n",
    "#   name=\"medicalchatbot-4\",\n",
    "#   dimension=384,\n",
    "#   metric=\"cosine\",\n",
    "#   spec=ServerlessSpec(\n",
    "#     cloud=\"aws\",\n",
    "#     region=\"us-east-1\"\n",
    "#   ),\n",
    "#   deletion_protection=\"disabled\"\n",
    "# )\n",
    "\n",
    "\n",
    "\n",
    "\n",
    "# from pinecone import Pinecone\n",
    "# from tqdm.autonotebook import tqdm\n",
    "\n",
    "# pc = Pinecone(api_key=\"pcsk_ryeft_LKtbQwiCYbV4qbreHuDYvkfMSkWxpy1pMAwJqiSxQ1crjq53Hh9Zm8L4poYgqUt\")\n",
    "# index = pc.Index(\"quickstart\")"
   ]
  },
  {
   "cell_type": "code",
   "execution_count": null,
   "metadata": {},
   "outputs": [],
   "source": [
    "# from pinecone import Pinecone, ServerlessSpec, IndexSpec\n",
    "\n",
    "# # Set API key and environment\n",
    "# PINECONE_API_KEY = \"pcsk_ryeft_LKtbQwiCYbV4qbreHuDYvkfMSkWxpy1pMAwJqiSxQ1crjq53Hh9Zm8L4poYgqUt\"\n",
    "# PINECONE_REGION = \"us-east-1\"\n",
    "\n",
    "# # Initialize Pinecone client\n",
    "# pc = Pinecone(api_key=PINECONE_API_KEY, \n",
    "#               spec=ServerlessSpec(region=PINECONE_REGION, cloud=\"aws\"))\n",
    "\n",
    "# # Define index name and create it if it doesn't exist\n",
    "# index_name = \"medicalchatbot-4\"\n",
    "# index_spec = IndexSpec(name=index_name, dimension=384)\n",
    "\n",
    "# if index_name not in pc.list_indexes():\n",
    "#     pc.create_index(index_spec)\n",
    "\n",
    "# # Continue with embedding and document search setup\n",
    "# from langchain.vectorstores import Pinecone\n",
    "# from langchain.embeddings import HuggingFaceEmbeddings\n",
    "\n",
    "# # Load embeddings model\n",
    "# embeddings = HuggingFaceEmbeddings(model_name=\"sentence-transformers/all-MiniLM-L6-v2\")\n",
    "\n",
    "# # Use LangChain's Pinecone wrapper to store embeddings\n",
    "# docsearch = Pinecone.from_texts(\n",
    "#     texts=[t.page_content for t in text_chunks],\n",
    "#     embedding=embeddings,\n",
    "#     index_name=index_name\n",
    "# )\n",
    "\n",
    "########################################\n",
    "\n",
    "\n",
    "\n",
    "import pinecone\n",
    "\n",
    "# Set API key and environment\n",
    "PINECONE_API_KEY = \"pcsk_ryeft_LKtbQwiCYbV4qbreHuDYvkfMSkWxpy1pMAwJqiSxQ1crjq53Hh9Zm8L4poYgqUt\"\n",
    "PINECONE_ENV = \"us-east-1\"\n",
    "\n",
    "# Initialize Pinecone client with REST API\n",
    "pinecone.init(api_key=PINECONE_API_KEY, environment=PINECONE_ENV)\n",
    "\n",
    "# Define index name and create it if it doesn't exist\n",
    "index_name = \"medicalchatbot-4\"\n",
    "if index_name not in pinecone.list_indexes():\n",
    "    pinecone.create_index(name=index_name, dimension=384, metric=\"cosine\")\n",
    "\n",
    "# Continue with embedding and document search setup\n",
    "from langchain.vectorstores import Pinecone\n",
    "from langchain.embeddings import HuggingFaceEmbeddings\n",
    "\n",
    "# Load embeddings model\n",
    "embeddings = HuggingFaceEmbeddings(model_name=\"sentence-transformers/all-MiniLM-L6-v2\")\n",
    "\n",
    "# Use LangChain's Pinecone wrapper to store embeddings\n",
    "docsearch = Pinecone.from_texts(\n",
    "    texts=[t.page_content for t in text_chunks],\n",
    "    embedding=embeddings,\n",
    "    index_name=index_name\n",
    ")\n"
   ]
  },
  {
   "cell_type": "code",
   "execution_count": null,
   "metadata": {},
   "outputs": [],
   "source": [
    "# import pinecone\n",
    "\n",
    "# # Initialize Pinecone using the REST API client\n",
    "# PINECONE_API_KEY = \"pcsk_ryeft_LKtbQwiCYbV4qbreHuDYvkfMSkWxpy1pMAwJqiSxQ1crjq53Hh9Zm8L4poYgqUt\"\n",
    "# PINECONE_API_ENV = \"us-east-1\"\n",
    "\n",
    "# pinecone.init(api_key=PINECONE_API_KEY, environment=PINECONE_API_ENV)\n",
    "\n",
    "# # Define and create the index\n",
    "# index_name = \"medicalchatbot-4\"\n",
    "# if index_name not in pinecone.list_indexes():\n",
    "\n",
    "\n",
    "import pinecone\n",
    "\n",
    "PINECONE_API_KEY = \"pcsk_irU9S_SNuyBLaNZDTZMaTdts4YY6wFJVKfc4gmYieUiKVf4jFrxukH8buHqgpPTxBGN68\"\n",
    "PINECONE_ENV = \"us-west-2\"\n",
    "\n",
    "pinecone.init(api_key=PINECONE_API_KEY, environment=PINECONE_ENV)\n",
    "\n",
    "# List indexes to verify connection\n",
    "print(pinecone.list_indexes())\n"
   ]
  },
  {
   "cell_type": "code",
   "execution_count": null,
   "metadata": {},
   "outputs": [],
   "source": [
    "#Initializing the Pinecone\n",
    "pinecone.init(api_key=PINECONE_API_KEY)\n",
    "\n",
    "index_name=\"medical-chatbot\"\n",
    "\n",
    "#Creating Embeddings for Each of The Text Chunks & storing\n",
    "docsearch=Pinecone.from_texts([t.page_content for t in text_chunks], embeddings, index_name=index_name)"
   ]
  },
  {
   "cell_type": "code",
   "execution_count": null,
   "metadata": {},
   "outputs": [],
   "source": [
    "import pinecone\n",
    "\n",
    "# Initialize Pinecone with API key only\n",
    "pinecone.init(api_key=PINECONE_API_KEY)\n",
    "\n",
    "index_name = \"medicalchatbot-3\"\n",
    "\n",
    "# Creating Embeddings for Each of The Text Chunks & storing\n",
    "from langchain.vectorstores import Pinecone\n",
    "from langchain.embeddings import HuggingFaceEmbeddings\n",
    "\n",
    "embeddings = HuggingFaceEmbeddings(model_name=\"sentence-transformers/all-MiniLM-L6-v2\")\n",
    "docsearch = Pinecone.from_texts([t.page_content for t in text_chunks], embeddings, index_name=index_name)\n"
   ]
  },
  {
   "cell_type": "code",
   "execution_count": 31,
   "metadata": {},
   "outputs": [],
   "source": [
    "# # API Key and Environment\n",
    "# PINECONE_API_KEY = \"2d28b7cd-cb18-435b-8793-cc436382d321\"\n",
    "# PINECONE_API_ENV = \"us-east-1\""
   ]
  },
  {
   "cell_type": "code",
   "execution_count": 34,
   "metadata": {},
   "outputs": [],
   "source": [
    "# # Create a Pinecone instance and initialize\n",
    "# #pinecone_client = Pinecone(api_key=PINECONE_API_KEY, environment=PINECONE_API_ENV)\n",
    "# pinecone_client = Pinecone(api_key=PINECONE_API_KEY)"
   ]
  },
  {
   "cell_type": "code",
   "execution_count": 40,
   "metadata": {},
   "outputs": [],
   "source": [
    "# index_name = \"medical-chatbot\"\n",
    "\n",
    "# # Creating embeddings for each of the text chunks and storing them\n",
    "# docsearch = pinecone_client.from_texts([t.page_content for t in text_chunks], embeddings, index_name=index_name)\n"
   ]
  },
  {
   "cell_type": "code",
   "execution_count": 55,
   "metadata": {},
   "outputs": [],
   "source": [
    "# # import pinecone\n",
    "# # from langchain.vectorstores import Pinecone\n",
    "# # from langchain.embeddings import HuggingFaceEmbeddings\n",
    "# # from huggingface_hub import hf_hub_download\n",
    "\n",
    "# import pinecone\n",
    "# from langchain.vectorstores import Pinecone\n",
    "# from langchain.embeddings import HuggingFaceEmbeddings\n",
    "# from huggingface_hub import hf_hub_download\n",
    "# from pinecone import Pinecone\n",
    "\n",
    "# #from pinecone.grpc import PineconeGRPC as Pinecone\n",
    "\n"
   ]
  },
  {
   "cell_type": "code",
   "execution_count": 49,
   "metadata": {},
   "outputs": [],
   "source": [
    "# # API Key and Environment\n",
    "# PINECONE_API_KEY = \"2d28b7cd-cb18-435b-8793-cc436382d321\"\n",
    "# PINECONE_API_ENV = \"us-east-1\"\n"
   ]
  },
  {
   "cell_type": "code",
   "execution_count": 51,
   "metadata": {},
   "outputs": [],
   "source": [
    "# # # Initialize Pinecone\n",
    "# # pinecone.init(api_key=PINECONE_API_KEY, environment=PINECONE_API_ENV)\n",
    "\n",
    "# # Initialize Pinecone client\n",
    "# pinecone_client = Pinecone(api_key=PINECONE_API_KEY, environment=PINECONE_API_ENV)"
   ]
  },
  {
   "cell_type": "code",
   "execution_count": 22,
   "metadata": {},
   "outputs": [],
   "source": [
    "# index_name=\"medical-chatbot\"\n",
    "\n",
    "# #Creating Embeddings for Each of The Text Chunks & storing\n",
    "# docsearch=Pinecone.from_texts([t.page_content for t in text_chunks], embeddings, index_name=index_name)"
   ]
  },
  {
   "cell_type": "code",
   "execution_count": null,
   "metadata": {},
   "outputs": [],
   "source": []
  },
  {
   "cell_type": "code",
   "execution_count": 23,
   "metadata": {},
   "outputs": [],
   "source": [
    "# from pinecone import Pinecone, IndexSpec"
   ]
  },
  {
   "cell_type": "code",
   "execution_count": 24,
   "metadata": {},
   "outputs": [],
   "source": [
    "# # Set your API key\n",
    "# PINECONE_API_KEY = \"2d28b7cd-cb18-435b-8793-cc436382d321\"\n",
    "\n",
    "# # Initialize Pinecone client\n",
    "# pc = Pinecone(api_key=PINECONE_API_KEY)"
   ]
  },
  {
   "cell_type": "code",
   "execution_count": 25,
   "metadata": {},
   "outputs": [],
   "source": [
    "# # Initialize Pinecone client with gRPC\n",
    "# pc = Pinecone(api_key=PINECONE_API_KEY)"
   ]
  },
  {
   "cell_type": "code",
   "execution_count": 26,
   "metadata": {},
   "outputs": [],
   "source": [
    "# index_name = \"medical-chatbot\"\n",
    "# if index_name not in pc.list_indexes():\n",
    "#     pc.create_index(name=index_name, dimension=384)  # Adjust dimension based on embedding model\n",
    "\n",
    "# # Embedding setup with LangChain\n",
    "# from langchain.vectorstores import Pinecone\n",
    "# from langchain.embeddings import HuggingFaceEmbeddings\n",
    "\n",
    "# embeddings = HuggingFaceEmbeddings(model_name=\"sentence-transformers/all-MiniLM-L6-v2\")\n",
    "\n",
    "# # Use LangChain's Pinecone wrapper to store embeddings\n",
    "# docsearch = Pinecone.from_texts(\n",
    "#     texts=[t.page_content for t in text_chunks],\n",
    "#     embedding=embeddings,\n",
    "#     index_name=index_name\n",
    "# )\n"
   ]
  },
  {
   "cell_type": "code",
   "execution_count": null,
   "metadata": {},
   "outputs": [],
   "source": []
  },
  {
   "cell_type": "code",
   "execution_count": null,
   "metadata": {},
   "outputs": [],
   "source": []
  },
  {
   "cell_type": "code",
   "execution_count": null,
   "metadata": {},
   "outputs": [],
   "source": []
  },
  {
   "cell_type": "code",
   "execution_count": null,
   "metadata": {},
   "outputs": [],
   "source": []
  }
 ],
 "metadata": {
  "kernelspec": {
   "display_name": "MChatBot_1",
   "language": "python",
   "name": "python3"
  },
  "language_info": {
   "codemirror_mode": {
    "name": "ipython",
    "version": 3
   },
   "file_extension": ".py",
   "mimetype": "text/x-python",
   "name": "python",
   "nbconvert_exporter": "python",
   "pygments_lexer": "ipython3",
   "version": "3.9.20"
  }
 },
 "nbformat": 4,
 "nbformat_minor": 2
}
