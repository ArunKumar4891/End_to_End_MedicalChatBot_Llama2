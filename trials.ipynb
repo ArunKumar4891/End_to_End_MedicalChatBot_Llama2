{
 "cells": [
  {
   "cell_type": "code",
   "execution_count": 1,
   "metadata": {},
   "outputs": [
    {
     "name": "stderr",
     "output_type": "stream",
     "text": [
      "c:\\Users\\ASUS\\anaconda3\\envs\\MChatBot_1\\lib\\site-packages\\pinecone\\index.py:4: TqdmWarning: IProgress not found. Please update jupyter and ipywidgets. See https://ipywidgets.readthedocs.io/en/stable/user_install.html\n",
      "  from tqdm.autonotebook import tqdm\n"
     ]
    }
   ],
   "source": [
    "from langchain import PromptTemplate\n",
    "from langchain.chains import RetrievalQA\n",
    "from langchain.embeddings import HuggingFaceEmbeddings\n",
    "from langchain.vectorstores import Pinecone\n",
    "import pinecone\n",
    "from langchain.document_loaders import PyPDFLoader, DirectoryLoader\n",
    "from langchain.text_splitter import RecursiveCharacterTextSplitter\n",
    "from langchain.prompts import PromptTemplate\n",
    "from langchain.llms import CTransformers"
   ]
  },
  {
   "cell_type": "code",
   "execution_count": 2,
   "metadata": {},
   "outputs": [],
   "source": [
    "from langchain.document_loaders import PyPDFLoader, DirectoryLoader\n",
    "from langchain.text_splitter import RecursiveCharacterTextSplitter"
   ]
  },
  {
   "cell_type": "code",
   "execution_count": 3,
   "metadata": {},
   "outputs": [],
   "source": [
    "#Extract Data From the PDF File\n",
    "def load_pdf_file(data):\n",
    "    loader= DirectoryLoader(data,\n",
    "                            glob=\"*.pdf\",\n",
    "                            loader_cls=PyPDFLoader)\n",
    "\n",
    "    documents=loader.load()\n",
    "\n",
    "    return documents"
   ]
  },
  {
   "cell_type": "code",
   "execution_count": 4,
   "metadata": {},
   "outputs": [],
   "source": [
    "extracted_data=load_pdf_file(data='data/')"
   ]
  },
  {
   "cell_type": "code",
   "execution_count": 8,
   "metadata": {},
   "outputs": [],
   "source": [
    "#extracted_data"
   ]
  },
  {
   "cell_type": "code",
   "execution_count": 5,
   "metadata": {},
   "outputs": [],
   "source": [
    "#Split the Data into Text Chunks\n",
    "def text_split(extracted_data):\n",
    "    text_splitter=RecursiveCharacterTextSplitter(chunk_size=500, chunk_overlap=20)\n",
    "    text_chunks=text_splitter.split_documents(extracted_data)\n",
    "    return text_chunks"
   ]
  },
  {
   "cell_type": "code",
   "execution_count": 6,
   "metadata": {},
   "outputs": [
    {
     "name": "stdout",
     "output_type": "stream",
     "text": [
      "Length of Text Chunks 7020\n"
     ]
    }
   ],
   "source": [
    "text_chunks=text_split(extracted_data)\n",
    "print(\"Length of Text Chunks\", len(text_chunks))"
   ]
  },
  {
   "cell_type": "code",
   "execution_count": 11,
   "metadata": {},
   "outputs": [],
   "source": [
    "# text_chunks"
   ]
  },
  {
   "cell_type": "code",
   "execution_count": 19,
   "metadata": {},
   "outputs": [
    {
     "name": "stdout",
     "output_type": "stream",
     "text": [
      "Requirement already satisfied: pinecone[grpc] in c:\\users\\asus\\anaconda3\\envs\\mchatbot_1\\lib\\site-packages (5.3.1)\n",
      "Requirement already satisfied: certifi>=2019.11.17 in c:\\users\\asus\\anaconda3\\envs\\mchatbot_1\\lib\\site-packages (from pinecone[grpc]) (2024.8.30)\n",
      "Requirement already satisfied: pinecone-plugin-inference<2.0.0,>=1.1.0 in c:\\users\\asus\\anaconda3\\envs\\mchatbot_1\\lib\\site-packages (from pinecone[grpc]) (1.1.0)\n",
      "Requirement already satisfied: pinecone-plugin-interface<0.0.8,>=0.0.7 in c:\\users\\asus\\anaconda3\\envs\\mchatbot_1\\lib\\site-packages (from pinecone[grpc]) (0.0.7)\n",
      "Requirement already satisfied: python-dateutil>=2.5.3 in c:\\users\\asus\\anaconda3\\envs\\mchatbot_1\\lib\\site-packages (from pinecone[grpc]) (2.9.0.post0)\n",
      "Requirement already satisfied: tqdm>=4.64.1 in c:\\users\\asus\\anaconda3\\envs\\mchatbot_1\\lib\\site-packages (from pinecone[grpc]) (4.66.6)\n",
      "Requirement already satisfied: typing-extensions>=3.7.4 in c:\\users\\asus\\anaconda3\\envs\\mchatbot_1\\lib\\site-packages (from pinecone[grpc]) (4.11.0)\n",
      "Requirement already satisfied: urllib3>=1.26.0 in c:\\users\\asus\\anaconda3\\envs\\mchatbot_1\\lib\\site-packages (from pinecone[grpc]) (2.2.3)\n",
      "Requirement already satisfied: googleapis-common-protos>=1.53.0 in c:\\users\\asus\\anaconda3\\envs\\mchatbot_1\\lib\\site-packages (from pinecone[grpc]) (1.65.0)\n",
      "Requirement already satisfied: grpcio>=1.44.0 in c:\\users\\asus\\anaconda3\\envs\\mchatbot_1\\lib\\site-packages (from pinecone[grpc]) (1.67.1)\n",
      "Collecting lz4>=3.1.3 (from pinecone[grpc])\n",
      "  Downloading lz4-4.3.3-cp39-cp39-win_amd64.whl.metadata (3.8 kB)\n",
      "Collecting protobuf<5.0,>=4.25 (from pinecone[grpc])\n",
      "  Downloading protobuf-4.25.5-cp39-cp39-win_amd64.whl.metadata (541 bytes)\n",
      "Collecting protoc-gen-openapiv2<0.0.2,>=0.0.1 (from pinecone[grpc])\n",
      "  Using cached protoc_gen_openapiv2-0.0.1-py3-none-any.whl.metadata (1.5 kB)\n",
      "Requirement already satisfied: six>=1.5 in c:\\users\\asus\\anaconda3\\envs\\mchatbot_1\\lib\\site-packages (from python-dateutil>=2.5.3->pinecone[grpc]) (1.16.0)\n",
      "Requirement already satisfied: colorama in c:\\users\\asus\\anaconda3\\envs\\mchatbot_1\\lib\\site-packages (from tqdm>=4.64.1->pinecone[grpc]) (0.4.6)\n",
      "Downloading lz4-4.3.3-cp39-cp39-win_amd64.whl (99 kB)\n",
      "Downloading protobuf-4.25.5-cp39-cp39-win_amd64.whl (413 kB)\n",
      "Using cached protoc_gen_openapiv2-0.0.1-py3-none-any.whl (7.9 kB)\n",
      "Installing collected packages: protobuf, lz4, protoc-gen-openapiv2\n",
      "  Attempting uninstall: protobuf\n",
      "    Found existing installation: protobuf 5.28.3\n",
      "    Uninstalling protobuf-5.28.3:\n",
      "      Successfully uninstalled protobuf-5.28.3\n",
      "Successfully installed lz4-4.3.3 protobuf-4.25.5 protoc-gen-openapiv2-0.0.1\n"
     ]
    },
    {
     "name": "stderr",
     "output_type": "stream",
     "text": [
      "  WARNING: Failed to remove contents in a temporary directory 'C:\\Users\\ASUS\\anaconda3\\envs\\MChatBot_1\\Lib\\site-packages\\google\\~upb'.\n",
      "  You can safely remove it manually.\n",
      "ERROR: pip's dependency resolver does not currently take into account all the packages that are installed. This behaviour is the source of the following dependency conflicts.\n",
      "tensorflow-object-detection-api 0.1.1 requires jupyter, which is not installed.\n",
      "tensorflow-object-detection-api 0.1.1 requires lxml, which is not installed.\n",
      "tensorflow-object-detection-api 0.1.1 requires Matplotlib>=2.1, which is not installed.\n",
      "tensorflow-object-detection-api 0.1.1 requires matplotlib, which is not installed.\n",
      "tensorflow-object-detection-api 0.1.1 requires tensorflow, which is not installed.\n",
      "grpcio-tools 1.67.1 requires protobuf<6.0dev,>=5.26.1, but you have protobuf 4.25.5 which is incompatible.\n"
     ]
    }
   ],
   "source": [
    "# !pip uninstall -y sentence-transformers\n",
    "# !pip install sentence-transformers\n",
    "# !pip install pinecone-client\n",
    "# !pip install pinecone[grpc]\n",
    "\n",
    "# import sentence_transformers\n",
    "# print(sentence_transformers.__version__)"
   ]
  },
  {
   "cell_type": "code",
   "execution_count": 10,
   "metadata": {},
   "outputs": [],
   "source": [
    "from langchain.embeddings import HuggingFaceEmbeddings"
   ]
  },
  {
   "cell_type": "code",
   "execution_count": 11,
   "metadata": {},
   "outputs": [],
   "source": [
    "#Download the Embeddings from Hugging Face\n",
    "def download_hugging_face_embeddings():\n",
    "    embeddings=HuggingFaceEmbeddings(model_name='sentence-transformers/all-MiniLM-L6-v2')\n",
    "    return embeddings"
   ]
  },
  {
   "cell_type": "code",
   "execution_count": 12,
   "metadata": {},
   "outputs": [],
   "source": [
    "embeddings = download_hugging_face_embeddings()"
   ]
  },
  {
   "cell_type": "code",
   "execution_count": 13,
   "metadata": {},
   "outputs": [
    {
     "name": "stdout",
     "output_type": "stream",
     "text": [
      "Length 384\n"
     ]
    }
   ],
   "source": [
    "query_result = embeddings.embed_query(\"Hello world\")\n",
    "print(\"Length\", len(query_result))"
   ]
  },
  {
   "cell_type": "code",
   "execution_count": 14,
   "metadata": {},
   "outputs": [
    {
     "data": {
      "text/plain": [
       "True"
      ]
     },
     "execution_count": 14,
     "metadata": {},
     "output_type": "execute_result"
    }
   ],
   "source": [
    "from dotenv import load_dotenv\n",
    "load_dotenv()"
   ]
  },
  {
   "cell_type": "code",
   "execution_count": 16,
   "metadata": {},
   "outputs": [],
   "source": [
    "# query_result\n",
    "\n",
    "import os\n",
    "\n",
    "PINECONE_API_KEY=os.environ.get('PINECONE_API_KEY')"
   ]
  },
  {
   "cell_type": "code",
   "execution_count": 20,
   "metadata": {},
   "outputs": [
    {
     "ename": "ModuleNotFoundError",
     "evalue": "No module named 'pinecone.grpc'",
     "output_type": "error",
     "traceback": [
      "\u001b[1;31m---------------------------------------------------------------------------\u001b[0m",
      "\u001b[1;31mModuleNotFoundError\u001b[0m                       Traceback (most recent call last)",
      "Cell \u001b[1;32mIn[20], line 1\u001b[0m\n\u001b[1;32m----> 1\u001b[0m \u001b[38;5;28;01mfrom\u001b[39;00m \u001b[38;5;21;01mpinecone\u001b[39;00m\u001b[38;5;21;01m.\u001b[39;00m\u001b[38;5;21;01mgrpc\u001b[39;00m \u001b[38;5;28;01mimport\u001b[39;00m PineconeGRPC \u001b[38;5;28;01mas\u001b[39;00m Pinecone\n\u001b[0;32m      2\u001b[0m \u001b[38;5;28;01mfrom\u001b[39;00m \u001b[38;5;21;01mpinecone\u001b[39;00m \u001b[38;5;28;01mimport\u001b[39;00m ServerlessSpec\n\u001b[0;32m      3\u001b[0m \u001b[38;5;28;01mimport\u001b[39;00m \u001b[38;5;21;01mos\u001b[39;00m\n",
      "\u001b[1;31mModuleNotFoundError\u001b[0m: No module named 'pinecone.grpc'"
     ]
    }
   ],
   "source": [
    "from pinecone.grpc import PineconeGRPC as Pinecone\n",
    "from pinecone import ServerlessSpec\n",
    "import os\n",
    "\n",
    "pc = Pinecone(api_key=PINECONE_API_KEY)\n",
    "\n",
    "index_name = \"medicalchatbot5\"\n",
    "\n",
    "\n",
    "pc.create_index(\n",
    "    name=index_name,\n",
    "    dimension=384, \n",
    "    metric=\"cosine\", \n",
    "    spec=ServerlessSpec(\n",
    "        cloud=\"aws\", \n",
    "        region=\"us-east-1\"\n",
    "    ) \n",
    ") "
   ]
  },
  {
   "cell_type": "code",
   "execution_count": 22,
   "metadata": {},
   "outputs": [],
   "source": [
    "# # Define the index name and dimension\n",
    "# index_name = \"medicalchatbot-3\"\n",
    "# if index_name not in pinecone.list_indexes():\n",
    "#     pinecone.create_index(name=index_name, dimension=384)\n",
    "# from tqdm.autonotebook import tqdm\n",
    "\n",
    "# from pinecone.grpc import PineconeGRPC as Pinecone\n",
    "# from pinecone import ServerlessSpec\n",
    "\n",
    "# pc = Pinecone(api_key=\"YOUR_API_KEY\")\n",
    "\n",
    "# pc.create_index(\n",
    "#   name=\"medicalchatbot-4\",\n",
    "#   dimension=384,\n",
    "#   metric=\"cosine\",\n",
    "#   spec=ServerlessSpec(\n",
    "#     cloud=\"aws\",\n",
    "#     region=\"us-east-1\"\n",
    "#   ),\n",
    "#   deletion_protection=\"disabled\"\n",
    "# )\n",
    "\n",
    "\n",
    "\n",
    "\n",
    "# from pinecone import Pinecone\n",
    "# from tqdm.autonotebook import tqdm\n",
    "\n",
    "# pc = Pinecone(api_key=\"pcsk_ryeft_LKtbQwiCYbV4qbreHuDYvkfMSkWxpy1pMAwJqiSxQ1crjq53Hh9Zm8L4poYgqUt\")\n",
    "# index = pc.Index(\"quickstart\")"
   ]
  },
  {
   "cell_type": "code",
   "execution_count": null,
   "metadata": {},
   "outputs": [],
   "source": [
    "# from pinecone import Pinecone, ServerlessSpec, IndexSpec\n",
    "\n",
    "# # Set API key and environment\n",
    "# PINECONE_API_KEY = \"pcsk_ryeft_LKtbQwiCYbV4qbreHuDYvkfMSkWxpy1pMAwJqiSxQ1crjq53Hh9Zm8L4poYgqUt\"\n",
    "# PINECONE_REGION = \"us-east-1\"\n",
    "\n",
    "# # Initialize Pinecone client\n",
    "# pc = Pinecone(api_key=PINECONE_API_KEY, \n",
    "#               spec=ServerlessSpec(region=PINECONE_REGION, cloud=\"aws\"))\n",
    "\n",
    "# # Define index name and create it if it doesn't exist\n",
    "# index_name = \"medicalchatbot-4\"\n",
    "# index_spec = IndexSpec(name=index_name, dimension=384)\n",
    "\n",
    "# if index_name not in pc.list_indexes():\n",
    "#     pc.create_index(index_spec)\n",
    "\n",
    "# # Continue with embedding and document search setup\n",
    "# from langchain.vectorstores import Pinecone\n",
    "# from langchain.embeddings import HuggingFaceEmbeddings\n",
    "\n",
    "# # Load embeddings model\n",
    "# embeddings = HuggingFaceEmbeddings(model_name=\"sentence-transformers/all-MiniLM-L6-v2\")\n",
    "\n",
    "# # Use LangChain's Pinecone wrapper to store embeddings\n",
    "# docsearch = Pinecone.from_texts(\n",
    "#     texts=[t.page_content for t in text_chunks],\n",
    "#     embedding=embeddings,\n",
    "#     index_name=index_name\n",
    "# )\n",
    "\n",
    "########################################\n",
    "\n",
    "\n",
    "\n",
    "import pinecone\n",
    "\n",
    "# Set API key and environment\n",
    "PINECONE_API_KEY = \"pcsk_ryeft_LKtbQwiCYbV4qbreHuDYvkfMSkWxpy1pMAwJqiSxQ1crjq53Hh9Zm8L4poYgqUt\"\n",
    "PINECONE_ENV = \"us-east-1\"\n",
    "\n",
    "# Initialize Pinecone client with REST API\n",
    "pinecone.init(api_key=PINECONE_API_KEY, environment=PINECONE_ENV)\n",
    "\n",
    "# Define index name and create it if it doesn't exist\n",
    "index_name = \"medicalchatbot-4\"\n",
    "if index_name not in pinecone.list_indexes():\n",
    "    pinecone.create_index(name=index_name, dimension=384, metric=\"cosine\")\n",
    "\n",
    "# Continue with embedding and document search setup\n",
    "from langchain.vectorstores import Pinecone\n",
    "from langchain.embeddings import HuggingFaceEmbeddings\n",
    "\n",
    "# Load embeddings model\n",
    "embeddings = HuggingFaceEmbeddings(model_name=\"sentence-transformers/all-MiniLM-L6-v2\")\n",
    "\n",
    "# Use LangChain's Pinecone wrapper to store embeddings\n",
    "docsearch = Pinecone.from_texts(\n",
    "    texts=[t.page_content for t in text_chunks],\n",
    "    embedding=embeddings,\n",
    "    index_name=index_name\n",
    ")\n"
   ]
  },
  {
   "cell_type": "code",
   "execution_count": null,
   "metadata": {},
   "outputs": [],
   "source": [
    "# import pinecone\n",
    "\n",
    "# # Initialize Pinecone using the REST API client\n",
    "# PINECONE_API_KEY = \"pcsk_ryeft_LKtbQwiCYbV4qbreHuDYvkfMSkWxpy1pMAwJqiSxQ1crjq53Hh9Zm8L4poYgqUt\"\n",
    "# PINECONE_API_ENV = \"us-east-1\"\n",
    "\n",
    "# pinecone.init(api_key=PINECONE_API_KEY, environment=PINECONE_API_ENV)\n",
    "\n",
    "# # Define and create the index\n",
    "# index_name = \"medicalchatbot-4\"\n",
    "# if index_name not in pinecone.list_indexes():\n",
    "\n",
    "\n",
    "import pinecone\n",
    "\n",
    "PINECONE_API_KEY = \"pcsk_irU9S_SNuyBLaNZDTZMaTdts4YY6wFJVKfc4gmYieUiKVf4jFrxukH8buHqgpPTxBGN68\"\n",
    "PINECONE_ENV = \"us-west-2\"\n",
    "\n",
    "pinecone.init(api_key=PINECONE_API_KEY, environment=PINECONE_ENV)\n",
    "\n",
    "# List indexes to verify connection\n",
    "print(pinecone.list_indexes())\n"
   ]
  },
  {
   "cell_type": "code",
   "execution_count": null,
   "metadata": {},
   "outputs": [],
   "source": [
    "#Initializing the Pinecone\n",
    "pinecone.init(api_key=PINECONE_API_KEY)\n",
    "\n",
    "index_name=\"medical-chatbot\"\n",
    "\n",
    "#Creating Embeddings for Each of The Text Chunks & storing\n",
    "docsearch=Pinecone.from_texts([t.page_content for t in text_chunks], embeddings, index_name=index_name)"
   ]
  },
  {
   "cell_type": "code",
   "execution_count": null,
   "metadata": {},
   "outputs": [],
   "source": [
    "import pinecone\n",
    "\n",
    "# Initialize Pinecone with API key only\n",
    "pinecone.init(api_key=PINECONE_API_KEY)\n",
    "\n",
    "index_name = \"medicalchatbot-3\"\n",
    "\n",
    "# Creating Embeddings for Each of The Text Chunks & storing\n",
    "from langchain.vectorstores import Pinecone\n",
    "from langchain.embeddings import HuggingFaceEmbeddings\n",
    "\n",
    "embeddings = HuggingFaceEmbeddings(model_name=\"sentence-transformers/all-MiniLM-L6-v2\")\n",
    "docsearch = Pinecone.from_texts([t.page_content for t in text_chunks], embeddings, index_name=index_name)\n"
   ]
  },
  {
   "cell_type": "code",
   "execution_count": 31,
   "metadata": {},
   "outputs": [],
   "source": [
    "# # API Key and Environment\n",
    "# PINECONE_API_KEY = \"2d28b7cd-cb18-435b-8793-cc436382d321\"\n",
    "# PINECONE_API_ENV = \"us-east-1\""
   ]
  },
  {
   "cell_type": "code",
   "execution_count": 34,
   "metadata": {},
   "outputs": [],
   "source": [
    "# # Create a Pinecone instance and initialize\n",
    "# #pinecone_client = Pinecone(api_key=PINECONE_API_KEY, environment=PINECONE_API_ENV)\n",
    "# pinecone_client = Pinecone(api_key=PINECONE_API_KEY)"
   ]
  },
  {
   "cell_type": "code",
   "execution_count": 40,
   "metadata": {},
   "outputs": [],
   "source": [
    "# index_name = \"medical-chatbot\"\n",
    "\n",
    "# # Creating embeddings for each of the text chunks and storing them\n",
    "# docsearch = pinecone_client.from_texts([t.page_content for t in text_chunks], embeddings, index_name=index_name)\n"
   ]
  },
  {
   "cell_type": "code",
   "execution_count": 55,
   "metadata": {},
   "outputs": [],
   "source": [
    "# # import pinecone\n",
    "# # from langchain.vectorstores import Pinecone\n",
    "# # from langchain.embeddings import HuggingFaceEmbeddings\n",
    "# # from huggingface_hub import hf_hub_download\n",
    "\n",
    "# import pinecone\n",
    "# from langchain.vectorstores import Pinecone\n",
    "# from langchain.embeddings import HuggingFaceEmbeddings\n",
    "# from huggingface_hub import hf_hub_download\n",
    "# from pinecone import Pinecone\n",
    "\n",
    "# #from pinecone.grpc import PineconeGRPC as Pinecone\n",
    "\n"
   ]
  },
  {
   "cell_type": "code",
   "execution_count": 49,
   "metadata": {},
   "outputs": [],
   "source": [
    "# # API Key and Environment\n",
    "# PINECONE_API_KEY = \"2d28b7cd-cb18-435b-8793-cc436382d321\"\n",
    "# PINECONE_API_ENV = \"us-east-1\"\n"
   ]
  },
  {
   "cell_type": "code",
   "execution_count": 51,
   "metadata": {},
   "outputs": [],
   "source": [
    "# # # Initialize Pinecone\n",
    "# # pinecone.init(api_key=PINECONE_API_KEY, environment=PINECONE_API_ENV)\n",
    "\n",
    "# # Initialize Pinecone client\n",
    "# pinecone_client = Pinecone(api_key=PINECONE_API_KEY, environment=PINECONE_API_ENV)"
   ]
  },
  {
   "cell_type": "code",
   "execution_count": 22,
   "metadata": {},
   "outputs": [],
   "source": [
    "# index_name=\"medical-chatbot\"\n",
    "\n",
    "# #Creating Embeddings for Each of The Text Chunks & storing\n",
    "# docsearch=Pinecone.from_texts([t.page_content for t in text_chunks], embeddings, index_name=index_name)"
   ]
  },
  {
   "cell_type": "code",
   "execution_count": null,
   "metadata": {},
   "outputs": [],
   "source": []
  },
  {
   "cell_type": "code",
   "execution_count": 23,
   "metadata": {},
   "outputs": [],
   "source": [
    "# from pinecone import Pinecone, IndexSpec"
   ]
  },
  {
   "cell_type": "code",
   "execution_count": 24,
   "metadata": {},
   "outputs": [],
   "source": [
    "# # Set your API key\n",
    "# PINECONE_API_KEY = \"2d28b7cd-cb18-435b-8793-cc436382d321\"\n",
    "\n",
    "# # Initialize Pinecone client\n",
    "# pc = Pinecone(api_key=PINECONE_API_KEY)"
   ]
  },
  {
   "cell_type": "code",
   "execution_count": 25,
   "metadata": {},
   "outputs": [],
   "source": [
    "# # Initialize Pinecone client with gRPC\n",
    "# pc = Pinecone(api_key=PINECONE_API_KEY)"
   ]
  },
  {
   "cell_type": "code",
   "execution_count": 26,
   "metadata": {},
   "outputs": [],
   "source": [
    "# index_name = \"medical-chatbot\"\n",
    "# if index_name not in pc.list_indexes():\n",
    "#     pc.create_index(name=index_name, dimension=384)  # Adjust dimension based on embedding model\n",
    "\n",
    "# # Embedding setup with LangChain\n",
    "# from langchain.vectorstores import Pinecone\n",
    "# from langchain.embeddings import HuggingFaceEmbeddings\n",
    "\n",
    "# embeddings = HuggingFaceEmbeddings(model_name=\"sentence-transformers/all-MiniLM-L6-v2\")\n",
    "\n",
    "# # Use LangChain's Pinecone wrapper to store embeddings\n",
    "# docsearch = Pinecone.from_texts(\n",
    "#     texts=[t.page_content for t in text_chunks],\n",
    "#     embedding=embeddings,\n",
    "#     index_name=index_name\n",
    "# )\n"
   ]
  },
  {
   "cell_type": "code",
   "execution_count": null,
   "metadata": {},
   "outputs": [],
   "source": []
  },
  {
   "cell_type": "code",
   "execution_count": null,
   "metadata": {},
   "outputs": [],
   "source": []
  },
  {
   "cell_type": "code",
   "execution_count": null,
   "metadata": {},
   "outputs": [],
   "source": []
  },
  {
   "cell_type": "code",
   "execution_count": null,
   "metadata": {},
   "outputs": [],
   "source": []
  }
 ],
 "metadata": {
  "kernelspec": {
   "display_name": "MChatBot_1",
   "language": "python",
   "name": "python3"
  },
  "language_info": {
   "codemirror_mode": {
    "name": "ipython",
    "version": 3
   },
   "file_extension": ".py",
   "mimetype": "text/x-python",
   "name": "python",
   "nbconvert_exporter": "python",
   "pygments_lexer": "ipython3",
   "version": "3.9.20"
  }
 },
 "nbformat": 4,
 "nbformat_minor": 2
}
